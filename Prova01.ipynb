{
 "cells": [
  {
   "cell_type": "code",
   "execution_count": 3,
   "id": "492bdb53",
   "metadata": {},
   "outputs": [
    {
     "name": "stdout",
     "output_type": "stream",
     "text": [
      "Digite o primeiro valor inteiro e positivo: 2\n",
      "Digite o segundo valor inteiro e positivo: 10\n",
      "Digite o terceiro valor inteiro e positivo: 20\n",
      "A média aritmética dos dois maiores valores é: 15.00\n"
     ]
    }
   ],
   "source": [
    "valor1 = int(input(\"Digite o primeiro valor inteiro e positivo: \"))\n",
    "valor2 = int(input(\"Digite o segundo valor inteiro e positivo: \"))\n",
    "valor3 = int(input(\"Digite o terceiro valor inteiro e positivo: \"))\n",
    "\n",
    "maior_valor = max(valor1, valor2, valor3)\n",
    "menor_valor = min(valor1, valor2, valor3)\n",
    "media = (valor1 + valor2 + valor3 - menor_valor) / 2\n",
    "\n",
    "print(f\"A média aritmética dos dois maiores valores é: {media:.2f}\")"
   ]
  },
  {
   "cell_type": "code",
   "execution_count": null,
   "id": "d48ff9fe",
   "metadata": {},
   "outputs": [],
   "source": []
  }
 ],
 "metadata": {
  "kernelspec": {
   "display_name": "Python 3 (ipykernel)",
   "language": "python",
   "name": "python3"
  },
  "language_info": {
   "codemirror_mode": {
    "name": "ipython",
    "version": 3
   },
   "file_extension": ".py",
   "mimetype": "text/x-python",
   "name": "python",
   "nbconvert_exporter": "python",
   "pygments_lexer": "ipython3",
   "version": "3.11.5"
  }
 },
 "nbformat": 4,
 "nbformat_minor": 5
}
